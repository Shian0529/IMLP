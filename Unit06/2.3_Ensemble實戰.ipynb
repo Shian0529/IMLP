{
 "cells": [
  {
   "cell_type": "markdown",
   "id": "3129ab3d",
   "metadata": {},
   "source": [
    "# Ensemble/Voting Classification in Python with Scikit-Learn\n",
    "ref：https://www.kaggle.com/c/titanic/submit"
   ]
  },
  {
   "cell_type": "code",
   "execution_count": 99,
   "id": "c6b020b8",
   "metadata": {},
   "outputs": [],
   "source": [
    "import pandas as pd\n",
    "import numpy as np\n",
    "import warnings\n",
    "\n",
    "from sklearn.preprocessing import LabelEncoder, StandardScaler\n",
    "from sklearn.metrics import accuracy_score, f1_score, log_loss\n",
    "from sklearn.model_selection import train_test_split, KFold, cross_val_score\n",
    "\n",
    "from sklearn.svm import SVC\n",
    "from sklearn.linear_model import LogisticRegression\n",
    "from sklearn.tree import DecisionTreeClassifier\n",
    "from sklearn.ensemble import VotingClassifier\n",
    "from sklearn.ensemble import BaggingClassifier\n",
    "from sklearn.ensemble import AdaBoostClassifier, RandomForestClassifier, ExtraTreesClassifier"
   ]
  },
  {
   "cell_type": "code",
   "execution_count": 100,
   "id": "7163b994",
   "metadata": {
    "scrolled": true
   },
   "outputs": [
    {
     "name": "stdout",
     "output_type": "stream",
     "text": [
      "Training Data:\n",
      "PassengerId      0\n",
      "Survived         0\n",
      "Pclass           0\n",
      "Name             0\n",
      "Sex              0\n",
      "Age            177\n",
      "SibSp            0\n",
      "Parch            0\n",
      "Ticket           0\n",
      "Fare             0\n",
      "Cabin          687\n",
      "Embarked         2\n",
      "dtype: int64\n",
      "Testing Data:\n",
      "PassengerId      0\n",
      "Pclass           0\n",
      "Name             0\n",
      "Sex              0\n",
      "Age             86\n",
      "SibSp            0\n",
      "Parch            0\n",
      "Ticket           0\n",
      "Fare             1\n",
      "Cabin          327\n",
      "Embarked         0\n",
      "dtype: int64\n"
     ]
    }
   ],
   "source": [
    "training_data = pd.read_csv(\"data/train.csv\")\n",
    "testing_data = pd.read_csv(\"data/test.csv\")\n",
    "def get_nulls(training, testing):\n",
    "    print(\"Training Data:\")\n",
    "    print(pd.isnull(training).sum())\n",
    "    print(\"Testing Data:\")\n",
    "    print(pd.isnull(testing).sum())\n",
    "\n",
    "get_nulls(training_data, testing_data)"
   ]
  },
  {
   "cell_type": "code",
   "execution_count": 101,
   "id": "ffd6109f",
   "metadata": {},
   "outputs": [
    {
     "name": "stdout",
     "output_type": "stream",
     "text": [
      "Training Data:\n",
      "PassengerId    0\n",
      "Survived       0\n",
      "Pclass         0\n",
      "Sex            0\n",
      "Age            0\n",
      "SibSp          0\n",
      "Parch          0\n",
      "Fare           0\n",
      "Embarked       0\n",
      "dtype: int64\n",
      "Testing Data:\n",
      "PassengerId    0\n",
      "Pclass         0\n",
      "Sex            0\n",
      "Age            0\n",
      "SibSp          0\n",
      "Parch          0\n",
      "Fare           0\n",
      "Embarked       0\n",
      "dtype: int64\n"
     ]
    }
   ],
   "source": [
    "# Drop the cabin column, as there are too many missing values\n",
    "# Drop the ticket numbers too, as there are too many categories\n",
    "# Drop names as they won't really help predict survivors\n",
    "training_data.drop(labels = ['Cabin', 'Ticket', 'Name'], axis = 1, inplace = True)\n",
    "testing_data.drop(labels = ['Cabin', 'Ticket', 'Name'], axis = 1, inplace = True)\n",
    "\n",
    "\n",
    "# Taking the mean/average value would be impacted by the skew\n",
    "# so we should use the median value to impute missing values\n",
    "training_data[\"Age\"].fillna(training_data[\"Age\"].median(),inplace=True)\n",
    "training_data[\"Embarked\"].fillna(\"S\",inplace=True)\n",
    "testing_data[\"Age\"].fillna(testing_data[\"Age\"].median(),inplace=True)\n",
    "testing_data[\"Fare\"].fillna(testing_data[\"Fare\"].median(),inplace=True)\n",
    "\n",
    "get_nulls(training_data, testing_data)"
   ]
  },
  {
   "cell_type": "code",
   "execution_count": 102,
   "id": "19e4f59b",
   "metadata": {},
   "outputs": [],
   "source": [
    "# Fit the encoder on the data (Feature: Sex)\n",
    "encoder_1 = LabelEncoder()\n",
    "encoder_1.fit(training_data[\"Sex\"])\n",
    "\n",
    "# Transform and replace training data\n",
    "training_sex_encoded = encoder_1.transform(training_data[\"Sex\"])\n",
    "training_data[\"Sex\"] = training_sex_encoded\n",
    "test_sex_encoded = encoder_1.transform(testing_data[\"Sex\"])\n",
    "testing_data[\"Sex\"] = test_sex_encoded\n",
    "\n",
    "# Fit the encoder on the data (Feature: Embarked)\n",
    "encoder_2 = LabelEncoder()\n",
    "encoder_2.fit(training_data[\"Embarked\"])\n",
    "\n",
    "training_embarked_encoded = encoder_2.transform(training_data[\"Embarked\"])\n",
    "training_data[\"Embarked\"] = training_embarked_encoded\n",
    "test_embarked_encoded = encoder_2.transform(testing_data[\"Embarked\"])\n",
    "testing_data[\"Embarked\"] = test_embarked_encoded\n",
    "\n",
    "# Any value we want to reshape needs be turned into array first\n",
    "ages_train = np.array(training_data[\"Age\"]).reshape(-1, 1)\n",
    "fares_train = np.array(training_data[\"Fare\"]).reshape(-1, 1)\n",
    "ages_test = np.array(testing_data[\"Age\"]).reshape(-1, 1)\n",
    "fares_test = np.array(testing_data[\"Fare\"]).reshape(-1, 1)\n",
    "# Scaler takes arrays\n",
    "scaler = StandardScaler()\n",
    "\n",
    "training_data[\"Age\"] = scaler.fit_transform(ages_train)\n",
    "training_data[\"Fare\"] = scaler.fit_transform(fares_train)\n",
    "testing_data[\"Age\"] = scaler.fit_transform(ages_test)\n",
    "testing_data[\"Fare\"] = scaler.fit_transform(fares_test)"
   ]
  },
  {
   "cell_type": "code",
   "execution_count": 103,
   "id": "65bd0090",
   "metadata": {},
   "outputs": [
    {
     "name": "stdout",
     "output_type": "stream",
     "text": [
      "   Pclass  Sex       Age  SibSp  Parch      Fare  Embarked\n",
      "0       3    1 -0.565736      1      0 -0.502445         2\n",
      "1       1    0  0.663861      1      0  0.786845         0\n",
      "2       3    0 -0.258337      0      0 -0.488854         2\n",
      "3       1    0  0.433312      1      0  0.420730         2\n",
      "4       3    1  0.433312      0      0 -0.486337         2\n",
      "0    0\n",
      "1    1\n",
      "2    1\n",
      "3    1\n",
      "4    0\n",
      "Name: Survived, dtype: int64\n"
     ]
    }
   ],
   "source": [
    "# Now to select our training/testing data\n",
    "X_features = training_data.drop(labels=['PassengerId', 'Survived'], axis=1)\n",
    "y_labels = training_data['Survived']\n",
    "\n",
    "print(X_features.head(5))\n",
    "print(y_labels.head(5))\n",
    "\n",
    "# Make the train/test data from validation\n",
    "\n",
    "X_train, X_val, y_train, y_val = train_test_split(X_features, y_labels, test_size=0.1,random_state=12)"
   ]
  },
  {
   "cell_type": "markdown",
   "id": "5652bc34",
   "metadata": {},
   "source": [
    "## Simple Averaging Approach"
   ]
  },
  {
   "cell_type": "code",
   "execution_count": 104,
   "id": "9cd452cc",
   "metadata": {},
   "outputs": [
    {
     "name": "stdout",
     "output_type": "stream",
     "text": [
      "0.8\n"
     ]
    }
   ],
   "source": [
    "LogReg_clf = LogisticRegression()\n",
    "DTree_clf = DecisionTreeClassifier()\n",
    "SVC_clf = SVC()\n",
    "\n",
    "LogReg_clf.fit(X_train, y_train)\n",
    "DTree_clf.fit(X_train, y_train)\n",
    "SVC_clf.fit(X_train, y_train)\n",
    "\n",
    "LogReg_pred = LogReg_clf.predict(X_val)\n",
    "DTree_pred = DTree_clf.predict(X_val)\n",
    "SVC_pred = SVC_clf.predict(X_val)\n",
    "\n",
    "averaged_preds = (LogReg_pred + DTree_pred + SVC_pred)//3\n",
    "acc = accuracy_score(y_val, averaged_preds)\n",
    "print(acc)"
   ]
  },
  {
   "cell_type": "markdown",
   "id": "82d32100",
   "metadata": {},
   "source": [
    "## Bagging Classification Example"
   ]
  },
  {
   "cell_type": "code",
   "execution_count": 121,
   "id": "62ac47a5",
   "metadata": {},
   "outputs": [
    {
     "name": "stdout",
     "output_type": "stream",
     "text": [
      "0.7964634146341464\n",
      "0.8238719512195123\n",
      "0.8113719512195121\n",
      "0.7901219512195122\n"
     ]
    }
   ],
   "source": [
    "log_bagging_model = BaggingClassifier(base_estimator=LogReg_clf, n_estimators=100, random_state=12)\n",
    "dtree_bagging_model = BaggingClassifier(base_estimator=DTree_clf, n_estimators=100, random_state=12)\n",
    "random_forest = RandomForestClassifier(n_estimators=200, random_state=12)\n",
    "extra_trees = ExtraTreesClassifier(n_estimators=200, random_state=12)\n",
    "\n",
    "def bagging_ensemble(model):\n",
    "    k_folds = KFold(n_splits=20, random_state=12,shuffle=True)\n",
    "    results = cross_val_score(model, X_train, y_train, cv=k_folds)\n",
    "    print(results.mean())\n",
    "\n",
    "bagging_ensemble(log_bagging_model)\n",
    "bagging_ensemble(dtree_bagging_model)\n",
    "bagging_ensemble(random_forest)\n",
    "bagging_ensemble(extra_trees)"
   ]
  },
  {
   "cell_type": "markdown",
   "id": "09094ea7",
   "metadata": {},
   "source": [
    "## Boosting Classification Example"
   ]
  },
  {
   "cell_type": "code",
   "execution_count": 122,
   "id": "0a6d48bb",
   "metadata": {},
   "outputs": [
    {
     "name": "stdout",
     "output_type": "stream",
     "text": [
      "n_splits= 5\n",
      "Results for 20 estimators:\n",
      "0.8002872670807453\n",
      "Results for 30 estimators:\n",
      "0.799052795031056\n",
      "Results for 40 estimators:\n",
      "0.8052950310559005\n",
      "Results for 50 estimators:\n",
      "0.8027950310559007\n",
      "Results for 60 estimators:\n",
      "0.8052872670807453\n",
      "Results for 70 estimators:\n",
      "0.8040372670807454\n",
      "Results for 80 estimators:\n",
      "0.8040139751552795\n",
      "Results for 90 estimators:\n",
      "0.8015139751552794\n",
      "Results for 100 estimators:\n",
      "0.7977717391304349\n",
      "n_splits= 10\n",
      "Results for 20 estimators:\n",
      "0.7964814814814815\n",
      "Results for 30 estimators:\n",
      "0.8114660493827162\n",
      "Results for 40 estimators:\n",
      "0.810216049382716\n",
      "Results for 50 estimators:\n",
      "0.8039660493827162\n",
      "Results for 60 estimators:\n",
      "0.8152160493827161\n",
      "Results for 70 estimators:\n",
      "0.816466049382716\n",
      "Results for 80 estimators:\n",
      "0.8152160493827161\n",
      "Results for 90 estimators:\n",
      "0.8189506172839506\n",
      "Results for 100 estimators:\n",
      "0.8152006172839507\n",
      "n_splits= 15\n",
      "Results for 20 estimators:\n",
      "0.8077102259492196\n",
      "Results for 30 estimators:\n",
      "0.8126950850221293\n",
      "Results for 40 estimators:\n",
      "0.8139296529233637\n",
      "Results for 50 estimators:\n",
      "0.820125786163522\n",
      "Results for 60 estimators:\n",
      "0.8188679245283019\n",
      "Results for 70 estimators:\n",
      "0.820079198695551\n",
      "Results for 80 estimators:\n",
      "0.820125786163522\n",
      "Results for 90 estimators:\n",
      "0.8175867691590962\n",
      "Results for 100 estimators:\n",
      "0.8176100628930818\n",
      "n_splits= 20\n",
      "Results for 20 estimators:\n",
      "0.8052134146341464\n",
      "Results for 30 estimators:\n",
      "0.8101829268292684\n",
      "Results for 40 estimators:\n",
      "0.8176524390243903\n",
      "Results for 50 estimators:\n",
      "0.8164024390243902\n",
      "Results for 60 estimators:\n",
      "0.8164329268292683\n",
      "Results for 70 estimators:\n",
      "0.8201524390243902\n",
      "Results for 80 estimators:\n",
      "0.8151524390243902\n",
      "Results for 90 estimators:\n",
      "0.8114024390243904\n",
      "Results for 100 estimators:\n",
      "0.8101524390243903\n",
      "n_splits= 25\n",
      "Results for 20 estimators:\n",
      "0.7976893939393939\n",
      "Results for 30 estimators:\n",
      "0.8026515151515151\n",
      "Results for 40 estimators:\n",
      "0.8126515151515151\n",
      "Results for 50 estimators:\n",
      "0.8126136363636364\n",
      "Results for 60 estimators:\n",
      "0.8114015151515152\n",
      "Results for 70 estimators:\n",
      "0.8214015151515152\n",
      "Results for 80 estimators:\n",
      "0.8164015151515152\n",
      "Results for 90 estimators:\n",
      "0.8139015151515152\n",
      "Results for 100 estimators:\n",
      "0.8101515151515152\n",
      "n_splits= 30\n",
      "Results for 20 estimators:\n",
      "0.809781576448243\n",
      "Results for 30 estimators:\n",
      "0.8085470085470086\n",
      "Results for 40 estimators:\n",
      "0.8122981956315289\n",
      "Results for 50 estimators:\n",
      "0.8085470085470086\n",
      "Results for 60 estimators:\n",
      "0.8110636277302945\n",
      "Results for 70 estimators:\n",
      "0.8096866096866098\n",
      "Results for 80 estimators:\n",
      "0.8121082621082623\n",
      "Results for 90 estimators:\n",
      "0.8121557454890789\n",
      "Results for 100 estimators:\n",
      "0.8196581196581197\n",
      "n_splits= 35\n",
      "Results for 20 estimators:\n",
      "0.8112930547713156\n",
      "Results for 30 estimators:\n",
      "0.8087521174477695\n",
      "Results for 40 estimators:\n",
      "0.8149632975719932\n",
      "Results for 50 estimators:\n",
      "0.8124223602484472\n",
      "Results for 60 estimators:\n",
      "0.8161490683229814\n",
      "Results for 70 estimators:\n",
      "0.8210615471485035\n",
      "Results for 80 estimators:\n",
      "0.8123658949745907\n",
      "Results for 90 estimators:\n",
      "0.8136645962732919\n",
      "Results for 100 estimators:\n",
      "0.8111801242236024\n",
      "n_splits= 40\n",
      "Results for 20 estimators:\n",
      "0.8100595238095238\n",
      "Results for 30 estimators:\n",
      "0.8075595238095239\n",
      "Results for 40 estimators:\n",
      "0.813809523809524\n",
      "Results for 50 estimators:\n",
      "0.8175595238095237\n",
      "Results for 60 estimators:\n",
      "0.8213095238095237\n",
      "Results for 70 estimators:\n",
      "0.8200595238095237\n",
      "Results for 80 estimators:\n",
      "0.8138095238095238\n",
      "Results for 90 estimators:\n",
      "0.8175595238095237\n",
      "Results for 100 estimators:\n",
      "0.8150595238095238\n",
      "n_splits= 45\n",
      "Results for 20 estimators:\n",
      "0.8098039215686273\n",
      "Results for 30 estimators:\n",
      "0.8085693536673928\n",
      "Results for 40 estimators:\n",
      "0.8122730573710966\n",
      "Results for 50 estimators:\n",
      "0.8159041394335511\n",
      "Results for 60 estimators:\n",
      "0.8183732752360201\n",
      "Results for 70 estimators:\n",
      "0.8172113289760347\n",
      "Results for 80 estimators:\n",
      "0.8221496005809731\n",
      "Results for 90 estimators:\n",
      "0.8246913580246914\n",
      "Results for 100 estimators:\n",
      "0.8246913580246913\n",
      "n_splits= 50\n",
      "Results for 20 estimators:\n",
      "0.8088235294117646\n",
      "Results for 30 estimators:\n",
      "0.8113235294117647\n",
      "Results for 40 estimators:\n",
      "0.8150735294117646\n",
      "Results for 50 estimators:\n",
      "0.8138235294117646\n",
      "Results for 60 estimators:\n",
      "0.8150735294117646\n",
      "Results for 70 estimators:\n",
      "0.8088235294117646\n",
      "Results for 80 estimators:\n",
      "0.8125735294117646\n",
      "Results for 90 estimators:\n",
      "0.8138235294117646\n",
      "Results for 100 estimators:\n",
      "0.8125735294117646\n"
     ]
    }
   ],
   "source": [
    "n_list=[5,10,15,20,25,30,35,40,45,50]\n",
    "num_estimators = [20, 30, 40, 50, 60, 70, 80, 90, 100]\n",
    "for j in range(0,len(n_list)):\n",
    "    print('n_splits=', n_list[j])\n",
    "    k_folds = KFold(n_splits=n_list[j], random_state=12,shuffle=True)\n",
    "    for i in num_estimators:\n",
    "        ada_boost = AdaBoostClassifier(n_estimators=i, random_state=12)\n",
    "        results = cross_val_score(ada_boost,X_train, y_train, cv=k_folds)\n",
    "        print(\"Results for {} estimators:\".format(i))\n",
    "        print(results.mean())"
   ]
  },
  {
   "cell_type": "code",
   "execution_count": 123,
   "id": "6db824c0",
   "metadata": {},
   "outputs": [
    {
     "name": "stdout",
     "output_type": "stream",
     "text": [
      "Results for 90 estimators:\n",
      "0.8246913580246914\n"
     ]
    }
   ],
   "source": [
    "#n_splits = 45, num_estimators = 90最好\n",
    "k_folds = KFold(n_splits=45, random_state=12,shuffle=True)\n",
    "num_estimators = [90]\n",
    "\n",
    "for i in num_estimators:\n",
    "    ada_boost = AdaBoostClassifier(n_estimators=i, random_state=12)\n",
    "    results = cross_val_score(ada_boost,X_train, y_train, cv=k_folds)\n",
    "    print(\"Results for {} estimators:\".format(i))\n",
    "    print(results.mean())"
   ]
  },
  {
   "cell_type": "markdown",
   "id": "8290c946",
   "metadata": {},
   "source": [
    "## voting\\Stacking Classification Example"
   ]
  },
  {
   "cell_type": "code",
   "execution_count": 124,
   "id": "161a4960",
   "metadata": {},
   "outputs": [
    {
     "name": "stdout",
     "output_type": "stream",
     "text": [
      "Accuracy is: 0.8444444444444444\n",
      "Log Loss is: 5.372725203567113\n",
      "F1 Score is: 0.7741935483870968\n"
     ]
    }
   ],
   "source": [
    "voting_clf = VotingClassifier(estimators=[('SVC', SVC_clf), ('DTree', DTree_clf), ('LogReg', LogReg_clf), ('random_forest', random_forest)], voting='hard')\n",
    "voting_clf.fit(X_train, y_train)\n",
    "preds = voting_clf.predict(X_val)\n",
    "acc = accuracy_score(y_val, preds)\n",
    "l_loss = log_loss(y_val, preds)\n",
    "f1 = f1_score(y_val, preds)\n",
    "\n",
    "print(\"Accuracy is: \" + str(acc))\n",
    "print(\"Log Loss is: \" + str(l_loss))\n",
    "print(\"F1 Score is: \" + str(f1))"
   ]
  },
  {
   "cell_type": "code",
   "execution_count": 125,
   "id": "aedc530e",
   "metadata": {},
   "outputs": [
    {
     "data": {
      "text/plain": [
       "(418, 7)"
      ]
     },
     "execution_count": 125,
     "metadata": {},
     "output_type": "execute_result"
    }
   ],
   "source": [
    "test = testing_data.drop(labels=['PassengerId'], axis = 1)\n",
    "test.shape"
   ]
  },
  {
   "cell_type": "code",
   "execution_count": null,
   "id": "6c0bd399",
   "metadata": {},
   "outputs": [],
   "source": []
  },
  {
   "cell_type": "code",
   "execution_count": 126,
   "id": "1fea8017",
   "metadata": {},
   "outputs": [],
   "source": [
    "submission_df = pd.DataFrame(columns = ['PassengerId', 'Survived'])\n",
    "submission_df['PassengerId'] = testing_data['PassengerId']\n",
    "preds = voting_clf.predict(test)\n",
    "submission_df['Survived'] = preds\n",
    "submission_df.to_csv('submission.csv', header=True, index=False)"
   ]
  },
  {
   "cell_type": "code",
   "execution_count": null,
   "id": "d929a42a",
   "metadata": {},
   "outputs": [],
   "source": []
  }
 ],
 "metadata": {
  "kernelspec": {
   "display_name": "rapids-22.08",
   "language": "python",
   "name": "rapids-22.08"
  },
  "language_info": {
   "codemirror_mode": {
    "name": "ipython",
    "version": 3
   },
   "file_extension": ".py",
   "mimetype": "text/x-python",
   "name": "python",
   "nbconvert_exporter": "python",
   "pygments_lexer": "ipython3",
   "version": "3.9.13"
  }
 },
 "nbformat": 4,
 "nbformat_minor": 5
}
