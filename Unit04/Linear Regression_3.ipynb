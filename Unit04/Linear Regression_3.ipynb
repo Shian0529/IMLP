{
 "cells": [
  {
   "cell_type": "markdown",
   "metadata": {},
   "source": [
    "# Linear Regression\n"
   ]
  },
  {
   "cell_type": "code",
   "execution_count": 1,
   "metadata": {},
   "outputs": [],
   "source": [
    "%matplotlib inline\n",
    "import numpy as np\n",
    "import matplotlib.pyplot as plt\n",
    "from sklearn.linear_model import LinearRegression"
   ]
  },
  {
   "cell_type": "markdown",
   "metadata": {},
   "source": [
    "## 3. Nonlinear\n",
    "\n",
    "$$f(x) = \\sin(3.2x) + 0.8x$$\n"
   ]
  },
  {
   "cell_type": "markdown",
   "metadata": {},
   "source": [
    "### 3. 生成假資料"
   ]
  },
  {
   "cell_type": "code",
   "execution_count": 2,
   "metadata": {},
   "outputs": [],
   "source": [
    "x = np.linspace(0, 5, 100) #0到5等距生成數字\n",
    "y = np.sin(3.2*x) + 0.8*x + 0.3*np.random.randn(100) #加入noise"
   ]
  },
  {
   "cell_type": "code",
   "execution_count": 3,
   "metadata": {},
   "outputs": [
    {
     "data": {
      "text/plain": [
       "<matplotlib.collections.PathCollection at 0x1dff81d5be0>"
      ]
     },
     "execution_count": 3,
     "metadata": {},
     "output_type": "execute_result"
    },
    {
     "data": {
      "image/png": "[encoded data removed]",
      "text/plain": [
       "<Figure size 432x288 with 1 Axes>"
      ]
     },
     "metadata": {
      "needs_background": "light"
     },
     "output_type": "display_data"
    }
   ],
   "source": [
    "plt.scatter(x,y)"
   ]
  },
  {
   "cell_type": "markdown",
   "metadata": {},
   "source": [
    "#### nonlinear"
   ]
  },
  {
   "cell_type": "code",
   "execution_count": 4,
   "metadata": {},
   "outputs": [],
   "source": [
    "regr_lin = LinearRegression()"
   ]
  },
  {
   "cell_type": "code",
   "execution_count": 5,
   "metadata": {},
   "outputs": [
    {
     "name": "stdout",
     "output_type": "stream",
     "text": [
      "(100,)\n"
     ]
    }
   ],
   "source": [
    "X = x.reshape(-1, 1)\n",
    "print(X.shape)"
   ]
  },
  {
   "cell_type": "code",
   "execution_count": 6,
   "metadata": {},
   "outputs": [
    {
     "data": {
      "text/plain": [
       "LinearRegression()"
      ]
     },
     "execution_count": 6,
     "metadata": {},
     "output_type": "execute_result"
    }
   ],
   "source": [
    "regr_lin.fit(X,y)"
   ]
  },
  {
   "cell_type": "code",
   "execution_count": 7,
   "metadata": {},
   "outputs": [
    {
     "name": "stdout",
     "output_type": "stream",
     "text": [
      "0.5153285399549586\n"
     ]
    },
    {
     "data": {
      "image/png": "[encoded data removed]",
      "text/plain": [
       "<Figure size 432x288 with 1 Axes>"
      ]
     },
     "metadata": {
      "needs_background": "light"
     },
     "output_type": "display_data"
    }
   ],
   "source": [
    "Y=regr_lin.predict(X)\n",
    "plt.scatter(x,y)\n",
    "plt.plot(x,Y , color='r')\n",
    "mse = np.sum((Y-y)**2) / len(y)\n",
    "print(mse)"
   ]
  },
  {
   "cell_type": "markdown",
   "metadata": {},
   "source": [
    "果然超級不準, 該如何是好?"
   ]
  },
  {
   "cell_type": "markdown",
   "metadata": {},
   "source": [
    "#### 多項式\n",
    "\n",
    "多項式5次方"
   ]
  },
  {
   "cell_type": "markdown",
   "metadata": {},
   "source": [
    "$$\\widehat{y}=xw+b=w_{1}x_{1}+w_{2}x_{1}^{2}+w_{3}x_{1}^{3}+w_{4}x_{1}^{4}+w_{5}x_{1}^{5}+b$$"
   ]
  },
  {
   "cell_type": "code",
   "execution_count": 8,
   "metadata": {},
   "outputs": [
    {
     "name": "stdout",
     "output_type": "stream",
     "text": [
      "(100,)\n"
     ]
    }
   ],
   "source": [
    "print(x.shape)"
   ]
  },
  {
   "cell_type": "code",
   "execution_count": 18,
   "metadata": {},
   "outputs": [
    {
     "name": "stdout",
     "output_type": "stream",
     "text": [
      "(100, 5)\n"
     ]
    }
   ],
   "source": [
    "X_poly = np.array([[k, k**2, k**3, k**4, k**5] for k in x])  # add k**6 to try it\n",
    "print(X_poly.shape)"
   ]
  },
  {
   "cell_type": "code",
   "execution_count": 19,
   "metadata": {},
   "outputs": [],
   "source": [
    "regr_poly = LinearRegression()"
   ]
  },
  {
   "cell_type": "code",
   "execution_count": 20,
   "metadata": {},
   "outputs": [
    {
     "data": {
      "text/plain": [
       "LinearRegression()"
      ]
     },
     "execution_count": 20,
     "metadata": {},
     "output_type": "execute_result"
    }
   ],
   "source": [
    "regr_poly.fit(X_poly, y)"
   ]
  },
  {
   "cell_type": "code",
   "execution_count": 21,
   "metadata": {},
   "outputs": [
    {
     "data": {
      "text/plain": [
       "[<matplotlib.lines.Line2D at 0x21b8daf9ca0>]"
      ]
     },
     "execution_count": 21,
     "metadata": {},
     "output_type": "execute_result"
    },
    {
     "data": {
      "image/png": "[encoded data removed]",
      "text/plain": [
       "<Figure size 432x288 with 1 Axes>"
      ]
     },
     "metadata": {
      "needs_background": "light"
     },
     "output_type": "display_data"
    }
   ],
   "source": [
    "plt.scatter(x,y)\n",
    "plt.plot(x, regr_poly.predict(X_poly), 'r')"
   ]
  },
  {
   "cell_type": "code",
   "execution_count": 22,
   "metadata": {},
   "outputs": [
    {
     "name": "stdout",
     "output_type": "stream",
     "text": [
      "Coefficients:  [-0.70009531  1.22959098 -0.58426163  0.13365799 -0.01095845]\n",
      "interception:  0.8602134972734636\n"
     ]
    }
   ],
   "source": [
    "print('Coefficients: ', regr_poly.coef_)\n",
    "print('interception: ', regr_poly.intercept_)"
   ]
  },
  {
   "cell_type": "code",
   "execution_count": 23,
   "metadata": {},
   "outputs": [
    {
     "data": {
      "text/plain": [
       "array([0.8602135 , 0.82791714, 0.80145402, 0.7804033 , 0.76436414,\n",
       "       0.75295528, 0.7458146 , 0.74259869, 0.74298243, 0.74665853,\n",
       "       0.75333712, 0.76274531, 0.77462676, 0.78874127, 0.80486428,\n",
       "       0.82278652, 0.84231354, 0.86326526, 0.88547556, 0.90879187,\n",
       "       0.93307469, 0.95819718, 0.98404474, 1.01051455, 1.03751519,\n",
       "       1.06496612, 1.09279735, 1.12094893, 1.14937055, 1.17802111,\n",
       "       1.20686828, 1.23588805, 1.26506436, 1.29438859, 1.32385917,\n",
       "       1.35348115, 1.38326576, 1.41322996, 1.44339604, 1.47379116,\n",
       "       1.50444696, 1.53539906, 1.56668669, 1.59835222, 1.63044076,\n",
       "       1.6629997 , 1.69607828, 1.72972718, 1.76399807, 1.79894317,\n",
       "       1.83461484, 1.87106513, 1.90834537, 1.94650571, 1.98559471,\n",
       "       2.02565888, 2.06674228, 2.10888609, 2.15212813, 2.19650248,\n",
       "       2.24203903, 2.28876303, 2.3366947 , 2.38584875, 2.43623397,\n",
       "       2.48785281, 2.54070092, 2.59476675, 2.6500311 , 2.70646667,\n",
       "       2.76403766, 2.82269934, 2.88239757, 2.94306842, 3.00463772,\n",
       "       3.06702062, 3.13012117, 3.19383188, 3.25803328, 3.32259352,\n",
       "       3.38736789, 3.45219842, 3.51691347, 3.58132723, 3.64523935,\n",
       "       3.70843447, 3.77068183, 3.83173478, 3.89133039, 3.94918901,\n",
       "       4.00501384, 4.05849049, 4.10928652, 4.1570511 , 4.20141445,\n",
       "       4.24198751, 4.27836148, 4.31010736, 4.33677553, 4.35789535])"
      ]
     },
     "execution_count": 23,
     "metadata": {},
     "output_type": "execute_result"
    }
   ],
   "source": [
    "W=regr_poly.coef_\n",
    "b=regr_poly.intercept_\n",
    "np.dot(X_poly,W.T)+b    #.T代表轉置矩陣"
   ]
  },
  {
   "cell_type": "code",
   "execution_count": 24,
   "metadata": {},
   "outputs": [
    {
     "data": {
      "text/plain": [
       "array([0.8602135 , 0.82791714, 0.80145402, 0.7804033 , 0.76436414,\n",
       "       0.75295528, 0.7458146 , 0.74259869, 0.74298243, 0.74665853,\n",
       "       0.75333712, 0.76274531, 0.77462676, 0.78874127, 0.80486428,\n",
       "       0.82278652, 0.84231354, 0.86326526, 0.88547556, 0.90879187,\n",
       "       0.93307469, 0.95819718, 0.98404474, 1.01051455, 1.03751519,\n",
       "       1.06496612, 1.09279735, 1.12094893, 1.14937055, 1.17802111,\n",
       "       1.20686828, 1.23588805, 1.26506436, 1.29438859, 1.32385917,\n",
       "       1.35348115, 1.38326576, 1.41322996, 1.44339604, 1.47379116,\n",
       "       1.50444696, 1.53539906, 1.56668669, 1.59835222, 1.63044076,\n",
       "       1.6629997 , 1.69607828, 1.72972718, 1.76399807, 1.79894317,\n",
       "       1.83461484, 1.87106513, 1.90834537, 1.94650571, 1.98559471,\n",
       "       2.02565888, 2.06674228, 2.10888609, 2.15212813, 2.19650248,\n",
       "       2.24203903, 2.28876303, 2.3366947 , 2.38584875, 2.43623397,\n",
       "       2.48785281, 2.54070092, 2.59476675, 2.6500311 , 2.70646667,\n",
       "       2.76403766, 2.82269934, 2.88239757, 2.94306842, 3.00463772,\n",
       "       3.06702062, 3.13012117, 3.19383188, 3.25803328, 3.32259352,\n",
       "       3.38736789, 3.45219842, 3.51691347, 3.58132723, 3.64523935,\n",
       "       3.70843447, 3.77068183, 3.83173478, 3.89133039, 3.94918901,\n",
       "       4.00501384, 4.05849049, 4.10928652, 4.1570511 , 4.20141445,\n",
       "       4.24198751, 4.27836148, 4.31010736, 4.33677553, 4.35789535])"
      ]
     },
     "execution_count": 24,
     "metadata": {},
     "output_type": "execute_result"
    }
   ],
   "source": [
    "regr_poly.predict(X_poly)"
   ]
  },
  {
   "cell_type": "markdown",
   "metadata": {},
   "source": [
    "#### RBF\n",
    "\n",
    "$$\\phi_i = e^{-\\| x - c_i \\|^2/2\\sigma^2}$$"
   ]
  },
  {
   "cell_type": "code",
   "execution_count": 25,
   "metadata": {},
   "outputs": [],
   "source": [
    "# normal distrubution 估計為常態分佈\n",
    "def RBF(x, center, sigma):\n",
    "    k = np.exp(-(x - center)**2/(2*sigma**2))\n",
    "    return k"
   ]
  },
  {
   "cell_type": "code",
   "execution_count": 26,
   "metadata": {},
   "outputs": [],
   "source": [
    "sigma = 0.3"
   ]
  },
  {
   "cell_type": "code",
   "execution_count": 27,
   "metadata": {},
   "outputs": [],
   "source": [
    "X_rbf = np.array([[RBF(k, .5, sigma), \n",
    "                  RBF(k, 1.5, sigma),\n",
    "                  RBF(k, 2.5, sigma),\n",
    "                  RBF(k, 3.5, sigma),\n",
    "                  RBF(k, 4.5, sigma)] for k in x])\n",
    "\n"
   ]
  },
  {
   "cell_type": "code",
   "execution_count": 28,
   "metadata": {},
   "outputs": [],
   "source": [
    "regr_rbf = LinearRegression()"
   ]
  },
  {
   "cell_type": "code",
   "execution_count": 29,
   "metadata": {},
   "outputs": [
    {
     "data": {
      "text/plain": [
       "LinearRegression()"
      ]
     },
     "execution_count": 29,
     "metadata": {},
     "output_type": "execute_result"
    }
   ],
   "source": [
    "regr_rbf.fit(X_rbf, y)"
   ]
  },
  {
   "cell_type": "code",
   "execution_count": 30,
   "metadata": {
    "scrolled": true
   },
   "outputs": [
    {
     "data": {
      "text/plain": [
       "[<matplotlib.lines.Line2D at 0x21b8db61700>]"
      ]
     },
     "execution_count": 30,
     "metadata": {},
     "output_type": "execute_result"
    },
    {
     "data": {
      "image/png": "[encoded data removed]",
      "text/plain": [
       "<Figure size 432x288 with 1 Axes>"
      ]
     },
     "metadata": {
      "needs_background": "light"
     },
     "output_type": "display_data"
    }
   ],
   "source": [
    "plt.scatter(x,y)\n",
    "plt.plot(x, regr_rbf.predict(X_rbf), 'r')"
   ]
  },
  {
   "cell_type": "code",
   "execution_count": 31,
   "metadata": {},
   "outputs": [
    {
     "name": "stdout",
     "output_type": "stream",
     "text": [
      "Coefficients:  [-0.75120917 -1.63575988  1.10759319  0.34699583  3.26271194]\n",
      "interception:  1.7711819109917148\n"
     ]
    }
   ],
   "source": [
    "print('Coefficients: ', regr_rbf.coef_)\n",
    "print('interception: ', regr_rbf.intercept_)"
   ]
  },
  {
   "cell_type": "markdown",
   "metadata": {},
   "source": [
    "#### Comparison"
   ]
  },
  {
   "cell_type": "code",
   "execution_count": 32,
   "metadata": {},
   "outputs": [],
   "source": [
    "Y_lin = regr_lin.predict(X)\n",
    "Y_poly = regr_poly.predict(X_poly)\n",
    "Y_rbf = regr_rbf.predict(X_rbf)"
   ]
  },
  {
   "cell_type": "code",
   "execution_count": 33,
   "metadata": {
    "scrolled": true
   },
   "outputs": [
    {
     "data": {
      "text/plain": [
       "<matplotlib.legend.Legend at 0x21b8c220730>"
      ]
     },
     "execution_count": 33,
     "metadata": {},
     "output_type": "execute_result"
    },
    {
     "data": {
      "image/png": "[encoded data removed]",
      "text/plain": [
       "<Figure size 432x288 with 1 Axes>"
      ]
     },
     "metadata": {
      "needs_background": "light"
     },
     "output_type": "display_data"
    }
   ],
   "source": [
    "plt.scatter(x,y)\n",
    "\n",
    "plt.plot(x, Y_lin, label='linear')\n",
    "plt.plot(x, Y_poly, label='polynomial')\n",
    "plt.plot(x, Y_rbf, label='rbf')\n",
    "plt.legend()"
   ]
  },
  {
   "cell_type": "markdown",
   "metadata": {
    "collapsed": true
   },
   "source": [
    "## 請計算模型的MSE"
   ]
  },
  {
   "cell_type": "code",
   "execution_count": 34,
   "metadata": {},
   "outputs": [
    {
     "name": "stdout",
     "output_type": "stream",
     "text": [
      "0.5153285399549586\n"
     ]
    }
   ],
   "source": [
    "print(np.sum((regr_lin.predict(X)-y)**2) / len(y))"
   ]
  },
  {
   "cell_type": "code",
   "execution_count": 35,
   "metadata": {},
   "outputs": [
    {
     "name": "stdout",
     "output_type": "stream",
     "text": [
      "0.45227631684586017\n"
     ]
    }
   ],
   "source": [
    "print(np.sum((regr_poly.predict(X_poly)-y)**2) / len(y))"
   ]
  },
  {
   "cell_type": "code",
   "execution_count": 36,
   "metadata": {},
   "outputs": [
    {
     "name": "stdout",
     "output_type": "stream",
     "text": [
      "0.2882419721712885\n"
     ]
    }
   ],
   "source": [
    "print(np.sum((regr_rbf.predict(X_rbf)-y)**2) / len(y))"
   ]
  },
  {
   "cell_type": "code",
   "execution_count": null,
   "metadata": {},
   "outputs": [],
   "source": []
  },
  {
   "cell_type": "code",
   "execution_count": null,
   "metadata": {},
   "outputs": [],
   "source": []
  }
 ],
 "metadata": {
  "anaconda-cloud": {},
  "kernelspec": {
   "display_name": "Python 3",
   "language": "python",
   "name": "python3"
  },
  "language_info": {
   "codemirror_mode": {
    "name": "ipython",
    "version": 3
   },
   "file_extension": ".py",
   "mimetype": "text/x-python",
   "name": "python",
   "nbconvert_exporter": "python",
   "pygments_lexer": "ipython3",
   "version": "3.8.8"
  }
 },
 "nbformat": 4,
 "nbformat_minor": 1
}
