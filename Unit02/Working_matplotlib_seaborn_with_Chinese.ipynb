{
 "cells": [
  {
   "cell_type": "code",
   "execution_count": 1,
   "metadata": {},
   "outputs": [],
   "source": [
    "import warnings\n",
    "warnings.filterwarnings('ignore')\n",
    "import matplotlib.pyplot as plt\n",
    "from matplotlib.font_manager import FontProperties"
   ]
  },
  {
   "cell_type": "markdown",
   "metadata": {},
   "source": [
    "##  尋找matplotlib中可用字體\n",
    "註：需知道中文字體的英文名稱"
   ]
  },
  {
   "cell_type": "code",
   "execution_count": 2,
   "metadata": {},
   "outputs": [
    {
     "data": {
      "text/plain": [
       "['STIXNonUnicode',\n",
       " 'STIXSizeThreeSym',\n",
       " 'cmmi10',\n",
       " 'STIXSizeFourSym',\n",
       " 'DejaVu Sans Mono',\n",
       " 'STIXGeneral',\n",
       " 'STIXGeneral',\n",
       " 'STIXNonUnicode',\n",
       " 'STIXSizeOneSym',\n",
       " 'cmex10',\n",
       " 'STIXSizeThreeSym',\n",
       " 'DejaVu Serif',\n",
       " 'DejaVu Serif',\n",
       " 'STIXSizeTwoSym',\n",
       " 'STIXSizeOneSym',\n",
       " 'DejaVu Sans Display',\n",
       " 'cmb10',\n",
       " 'DejaVu Serif Display',\n",
       " 'STIXSizeFourSym',\n",
       " 'DejaVu Serif',\n",
       " 'DejaVu Sans',\n",
       " 'STIXGeneral',\n",
       " 'STIXGeneral',\n",
       " 'DejaVu Sans Mono',\n",
       " 'DejaVu Sans',\n",
       " 'STIXSizeFiveSym',\n",
       " 'cmsy10',\n",
       " 'STIXNonUnicode',\n",
       " 'DejaVu Sans',\n",
       " 'STIXSizeTwoSym',\n",
       " 'cmr10',\n",
       " 'DejaVu Sans Mono',\n",
       " 'STIXNonUnicode',\n",
       " 'DejaVu Serif',\n",
       " 'cmtt10',\n",
       " 'DejaVu Sans',\n",
       " 'cmss10',\n",
       " 'DejaVu Sans Mono',\n",
       " 'Tw Cen MT Condensed',\n",
       " 'Comic Sans MS',\n",
       " 'MS Gothic',\n",
       " 'Old English Text MT',\n",
       " 'Palatino Linotype',\n",
       " 'Berlin Sans FB',\n",
       " 'Webdings',\n",
       " 'Curlz MT',\n",
       " 'Impact',\n",
       " 'Californian FB',\n",
       " 'Meiryo',\n",
       " 'Trebuchet MS',\n",
       " 'Bookman Old Style',\n",
       " 'Microsoft JhengHei',\n",
       " 'Lucida Fax',\n",
       " 'Perpetua',\n",
       " 'Palace Script MT',\n",
       " 'Corbel',\n",
       " 'Segoe UI',\n",
       " 'Wide Latin',\n",
       " 'Haettenschweiler',\n",
       " 'Yu Gothic',\n",
       " 'Gill Sans MT',\n",
       " 'MingLiU',\n",
       " 'Candara',\n",
       " 'Rockwell',\n",
       " 'Segoe UI Historic',\n",
       " 'Copperplate Gothic Light',\n",
       " 'Century',\n",
       " 'Nirmala UI',\n",
       " 'Bodoni MT',\n",
       " 'Yu Mincho',\n",
       " 'Script MT Bold',\n",
       " 'Yu Mincho',\n",
       " 'Bodoni MT',\n",
       " 'Verdana',\n",
       " 'Palatino Linotype',\n",
       " 'Lucida Sans Typewriter',\n",
       " 'Cambria',\n",
       " 'Lucida Calligraphy',\n",
       " 'Arial',\n",
       " 'Arial',\n",
       " 'Lucida Sans Typewriter',\n",
       " 'Yu Gothic',\n",
       " 'Microsoft PhagsPa',\n",
       " 'Franklin Gothic Heavy',\n",
       " 'Leelawadee UI',\n",
       " 'Leelawadee',\n",
       " 'Edwardian Script ITC',\n",
       " 'Rage Italic',\n",
       " 'Tw Cen MT',\n",
       " 'MV Boli',\n",
       " 'Segoe UI',\n",
       " 'Calisto MT',\n",
       " 'Mongolian Baiti',\n",
       " 'Baskerville Old Face',\n",
       " 'Franklin Gothic Medium',\n",
       " 'Lucida Handwriting',\n",
       " 'Gill Sans Ultra Bold',\n",
       " 'Nirmala UI',\n",
       " 'Book Antiqua',\n",
       " 'Centaur',\n",
       " 'Gill Sans MT',\n",
       " 'Lucida Bright',\n",
       " 'Segoe Script',\n",
       " 'Meiryo',\n",
       " 'Calibri',\n",
       " 'Microsoft Tai Le',\n",
       " 'Times New Roman',\n",
       " 'Arial',\n",
       " 'Microsoft Yi Baiti',\n",
       " 'Kunstler Script',\n",
       " 'Rockwell Condensed',\n",
       " 'High Tower Text',\n",
       " 'Harrington',\n",
       " 'Marlett',\n",
       " 'Candara',\n",
       " 'Rockwell',\n",
       " 'ROG Fonts v1.6',\n",
       " 'Bernard MT Condensed',\n",
       " 'Perpetua Titling MT',\n",
       " 'Segoe MDL2 Assets',\n",
       " 'Trebuchet MS',\n",
       " 'Malgun Gothic',\n",
       " 'Microsoft Sans Serif',\n",
       " 'Garamond',\n",
       " 'Microsoft PhagsPa',\n",
       " 'Snap ITC',\n",
       " 'Gadugi',\n",
       " 'Ravie',\n",
       " 'HoloLens MDL2 Assets',\n",
       " 'Consolas',\n",
       " 'Bodoni MT',\n",
       " 'Ebrima',\n",
       " 'Book Antiqua',\n",
       " 'Dubai',\n",
       " 'Goudy Old Style',\n",
       " 'Corbel',\n",
       " 'Segoe UI',\n",
       " 'Imprint MT Shadow',\n",
       " 'Franklin Gothic Book',\n",
       " 'Segoe UI Emoji',\n",
       " 'Lucida Sans',\n",
       " 'Onyx',\n",
       " 'MS Outlook',\n",
       " 'Constantia',\n",
       " 'Trebuchet MS',\n",
       " 'Freestyle Script',\n",
       " 'Tahoma',\n",
       " 'Yu Gothic',\n",
       " 'Arial',\n",
       " 'Viner Hand ITC',\n",
       " 'Vivaldi',\n",
       " 'Goudy Old Style',\n",
       " 'Century Gothic',\n",
       " 'Eras Bold ITC',\n",
       " 'Franklin Gothic Demi',\n",
       " 'Segoe UI',\n",
       " 'Lucida Sans Typewriter',\n",
       " 'Microsoft YaHei',\n",
       " 'Elephant',\n",
       " 'MS Reference Sans Serif',\n",
       " 'Footlight MT Light',\n",
       " 'Tw Cen MT Condensed',\n",
       " 'Engravers MT',\n",
       " 'Calibri',\n",
       " 'Calisto MT',\n",
       " 'UD Digi Kyokasho N-B',\n",
       " 'Times New Roman',\n",
       " 'Cambria',\n",
       " 'High Tower Text',\n",
       " 'Segoe UI',\n",
       " 'Book Antiqua',\n",
       " 'Gloucester MT Extra Condensed',\n",
       " 'Sylfaen',\n",
       " 'Pristina',\n",
       " 'Times New Roman',\n",
       " 'MingLiU-ExtB',\n",
       " 'Forte',\n",
       " 'Monotype Corsiva',\n",
       " 'Eras Light ITC',\n",
       " 'Leelawadee UI',\n",
       " 'OCR A Extended',\n",
       " 'Tahoma',\n",
       " 'Dubai',\n",
       " 'Wingdings 3',\n",
       " 'Palatino Linotype',\n",
       " 'Elephant',\n",
       " 'Comic Sans MS',\n",
       " 'Bell MT',\n",
       " 'Cooper Black',\n",
       " 'Juice ITC',\n",
       " 'Broadway',\n",
       " 'Cambria',\n",
       " 'Calibri',\n",
       " 'Segoe UI',\n",
       " 'Segoe Print',\n",
       " 'Ebrima',\n",
       " 'Ink Free',\n",
       " 'Microsoft JhengHei',\n",
       " 'Goudy Stout',\n",
       " 'Lucida Sans',\n",
       " 'Lucida Fax',\n",
       " 'BIZ UDMincho',\n",
       " 'Verdana',\n",
       " 'Rockwell Extra Bold',\n",
       " 'Bahnschrift',\n",
       " 'Arial',\n",
       " 'Georgia',\n",
       " 'Sitka Small',\n",
       " 'Times New Roman',\n",
       " 'Microsoft Uighur',\n",
       " 'Palatino Linotype',\n",
       " 'Candara',\n",
       " 'Poor Richard',\n",
       " 'Century Schoolbook',\n",
       " 'Arial',\n",
       " 'Rockwell',\n",
       " 'Algerian',\n",
       " 'Segoe UI',\n",
       " 'Candara',\n",
       " 'Courier New',\n",
       " 'Segoe UI',\n",
       " 'Microsoft YaHei',\n",
       " 'Bookman Old Style',\n",
       " 'Stencil',\n",
       " 'Vladimir Script',\n",
       " 'Berlin Sans FB Demi',\n",
       " 'Gill Sans MT',\n",
       " 'Javanese Text',\n",
       " 'Gigi',\n",
       " 'Kristen ITC',\n",
       " 'Georgia',\n",
       " 'Bodoni MT',\n",
       " 'Verdana',\n",
       " 'Calibri',\n",
       " 'Harlow Solid Italic',\n",
       " 'Consolas',\n",
       " 'Franklin Gothic Heavy',\n",
       " 'Book Antiqua',\n",
       " 'DFKai-SB',\n",
       " 'Georgia',\n",
       " 'Bauhaus 93',\n",
       " 'Perpetua',\n",
       " 'Verdana',\n",
       " 'Gill Sans MT',\n",
       " 'Rockwell',\n",
       " 'Lucida Sans Unicode',\n",
       " 'Felix Titling',\n",
       " 'UD Digi Kyokasho N-R',\n",
       " 'Wingdings 2',\n",
       " 'Leelawadee',\n",
       " 'Tempus Sans ITC',\n",
       " 'Chiller',\n",
       " 'Wingdings',\n",
       " 'Microsoft YaHei',\n",
       " 'Informal Roman',\n",
       " 'MS Mincho',\n",
       " 'Tw Cen MT Condensed Extra Bold',\n",
       " 'Microsoft Uighur',\n",
       " 'Dubai',\n",
       " 'Bodoni MT',\n",
       " 'Bookman Old Style',\n",
       " 'Corbel',\n",
       " 'BIZ UDGothic',\n",
       " 'Tw Cen MT',\n",
       " 'Yu Gothic',\n",
       " 'Constantia',\n",
       " 'Gill Sans Ultra Bold Condensed',\n",
       " 'Franklin Gothic Book',\n",
       " 'Eras Medium ITC',\n",
       " 'Century Gothic',\n",
       " 'Comic Sans MS',\n",
       " 'Constantia',\n",
       " 'Bell MT',\n",
       " 'Corbel',\n",
       " 'Microsoft Himalaya',\n",
       " 'Sitka Small',\n",
       " 'Gadugi',\n",
       " 'MS Reference Specialty',\n",
       " 'Britannic Bold',\n",
       " 'French Script MT',\n",
       " 'Bookman Old Style',\n",
       " 'Comic Sans MS',\n",
       " 'Century Schoolbook',\n",
       " 'Consolas',\n",
       " 'Courier New',\n",
       " 'Gill Sans MT Condensed',\n",
       " 'Corbel',\n",
       " 'Symbol',\n",
       " 'Rockwell Condensed',\n",
       " 'Arial',\n",
       " 'Calibri',\n",
       " 'Dubai',\n",
       " 'Bodoni MT',\n",
       " 'Myanmar Text',\n",
       " 'Microsoft New Tai Lue',\n",
       " 'Segoe UI',\n",
       " 'Century Gothic',\n",
       " 'Georgia',\n",
       " 'Lucida Sans',\n",
       " 'Bookshelf Symbol 7',\n",
       " 'Segoe UI Symbol',\n",
       " 'Garamond',\n",
       " 'Matura MT Script Capitals',\n",
       " 'Papyrus',\n",
       " 'Yu Mincho',\n",
       " 'Castellar',\n",
       " 'Showcard Gothic',\n",
       " 'Franklin Gothic Medium Cond',\n",
       " 'Blackadder ITC',\n",
       " 'Nirmala UI',\n",
       " 'Franklin Gothic Medium',\n",
       " 'Niagara Engraved',\n",
       " 'Consolas',\n",
       " 'Arial Rounded MT Bold',\n",
       " 'Segoe Print',\n",
       " 'Lucida Sans',\n",
       " 'Calisto MT',\n",
       " 'Bradley Hand ITC',\n",
       " 'Eras Demi ITC',\n",
       " 'Candara',\n",
       " 'Gill Sans MT Ext Condensed Bold',\n",
       " 'Tw Cen MT',\n",
       " 'Californian FB',\n",
       " 'Goudy Old Style',\n",
       " 'Perpetua',\n",
       " 'Perpetua Titling MT',\n",
       " 'Franklin Gothic Demi',\n",
       " 'Brush Script MT',\n",
       " 'Century Gothic',\n",
       " 'Tw Cen MT',\n",
       " 'Candara',\n",
       " 'Lucida Fax',\n",
       " 'Calibri',\n",
       " 'Segoe UI',\n",
       " 'Lucida Fax',\n",
       " 'Lucida Bright',\n",
       " 'SimSun',\n",
       " 'Microsoft Tai Le',\n",
       " 'Magneto',\n",
       " 'Californian FB',\n",
       " 'Niagara Solid',\n",
       " 'Microsoft New Tai Lue',\n",
       " 'Berlin Sans FB',\n",
       " 'Microsoft JhengHei',\n",
       " 'Constantia',\n",
       " 'Century Schoolbook',\n",
       " 'Franklin Gothic Demi Cond',\n",
       " 'Bodoni MT',\n",
       " 'Lucida Bright',\n",
       " 'Lucida Bright',\n",
       " 'SimSun-ExtB',\n",
       " 'Segoe Script',\n",
       " 'Sitka Small',\n",
       " 'Leelawadee UI',\n",
       " 'Maiandra GD',\n",
       " 'Lucida Sans Typewriter',\n",
       " 'Parchment',\n",
       " 'Century Schoolbook',\n",
       " 'BIZ UDGothic',\n",
       " 'Trebuchet MS',\n",
       " 'Arial',\n",
       " 'Malgun Gothic',\n",
       " 'Courier New',\n",
       " 'Copperplate Gothic Bold',\n",
       " 'Lucida Console',\n",
       " 'Colonna MT',\n",
       " 'MT Extra',\n",
       " 'Mistral',\n",
       " 'Cambria',\n",
       " 'Bodoni MT',\n",
       " 'Malgun Gothic',\n",
       " 'Calisto MT',\n",
       " 'Myanmar Text',\n",
       " 'Perpetua',\n",
       " 'Modern No. 20',\n",
       " 'Playbill',\n",
       " 'Bodoni MT',\n",
       " 'Bell MT',\n",
       " 'Corbel',\n",
       " 'Segoe UI',\n",
       " 'Jokerman',\n",
       " 'Arial',\n",
       " 'Segoe UI',\n",
       " 'Courier New',\n",
       " 'Sitka Small',\n",
       " 'Garamond',\n",
       " 'Bodoni MT',\n",
       " 'Agency FB',\n",
       " 'Bodoni MT',\n",
       " 'Agency FB',\n",
       " 'Gabriola']"
      ]
     },
     "execution_count": 2,
     "metadata": {},
     "output_type": "execute_result"
    }
   ],
   "source": [
    "import matplotlib\n",
    "[f.name for f in matplotlib.font_manager.fontManager.ttflist]"
   ]
  },
  {
   "cell_type": "markdown",
   "metadata": {
    "collapsed": true
   },
   "source": [
    "## 測試中文字體Notes:\n",
    "### Mac可用字體：SimHei\n",
    "### Windows 7可用字體：Microsoft YaHei\n",
    "### Windows 10 可用字體：Microsoft JhengHei、DFKai-SB"
   ]
  },
  {
   "cell_type": "markdown",
   "metadata": {},
   "source": [
    "# 方法一：更改 plt.rcParams['font.sans-serif'] 設定\n",
    "## Matplotlib example"
   ]
  },
  {
   "cell_type": "code",
   "execution_count": 3,
   "metadata": {},
   "outputs": [
    {
     "data": {
      "image/png": "[encoded data removed]",
      "text/plain": [
       "<Figure size 432x288 with 1 Axes>"
      ]
     },
     "metadata": {
      "needs_background": "light"
     },
     "output_type": "display_data"
    }
   ],
   "source": [
    "import matplotlib.pyplot as plt\n",
    "from matplotlib.font_manager import FontProperties\n",
    "plt.rcParams['font.sans-serif'] = ['Microsoft JhengHei'] \n",
    "\n",
    "plt.plot((1,2,3),(4,3,-1))\n",
    "plt.title(\"聲量圖\")\n",
    "plt.ylabel(\"文章數量\")\n",
    "plt.xlabel(\"品牌名稱\") \n",
    "plt.show()"
   ]
  },
  {
   "cell_type": "markdown",
   "metadata": {},
   "source": [
    "## Seaborn example"
   ]
  },
  {
   "cell_type": "code",
   "execution_count": 4,
   "metadata": {},
   "outputs": [
    {
     "data": {
      "text/plain": [
       "<AxesSubplot:>"
      ]
     },
     "execution_count": 4,
     "metadata": {},
     "output_type": "execute_result"
    },
    {
     "data": {
      "image/png": "[encoded data removed]",
      "text/plain": [
       "<Figure size 432x288 with 1 Axes>"
      ]
     },
     "metadata": {},
     "output_type": "display_data"
    }
   ],
   "source": [
    "#from matplotlib.font_manager import FontProperties\n",
    "import seaborn as sns\n",
    "sns.set(font=['sans-serif'])\n",
    "sns.set_style(\"whitegrid\",{\"font.sans-serif\":['Microsoft JhengHei']})\n",
    "cities_counter = [('好棒', 285), ('給我', 225), ('不要', 163), ('細柔', 136), ('吃飯', 130), ('小小', 124), ('深圳', 88), ('温州', 67), ('小知', 66), ('大之', 45)]\n",
    "sns.set_color_codes(\"pastel\")\n",
    "sns.barplot(x=[k for k, _ in cities_counter[:10]], y=[v for _, v in cities_counter[:10]])"
   ]
  },
  {
   "cell_type": "markdown",
   "metadata": {},
   "source": [
    "# 方法二：更改 plt.rcParams['font.family'] 設定"
   ]
  },
  {
   "cell_type": "code",
   "execution_count": 5,
   "metadata": {},
   "outputs": [
    {
     "data": {
      "image/png": "[encoded data removed]",
      "text/plain": [
       "<Figure size 432x288 with 1 Axes>"
      ]
     },
     "metadata": {},
     "output_type": "display_data"
    }
   ],
   "source": [
    "import matplotlib.pyplot as plt\n",
    "plt.style.use('ggplot')\n",
    "\n",
    "fig = plt.figure(figsize=(6,4))\n",
    "x = [1,2,3,4,5]\n",
    "y = [123,432,823,192,12]\n",
    "\n",
    "plt.rcParams['font.family']='DFKai-SB' #使用中文字體（黑體）\n",
    "\n",
    "plt.bar(x,y,align='center')\n",
    "plt.title('中文標題') #標題名稱\n",
    "plt.xlabel('X軸') #X軸名稱\n",
    "plt.ylabel('Y軸') #Y軸名稱\n",
    "plt.xticks(x, ['刻度A','刻度B','刻度C','刻度D','刻度E']) #X軸刻度名稱\n",
    "\n",
    "plt.show()"
   ]
  },
  {
   "cell_type": "markdown",
   "metadata": {},
   "source": [
    "# 方法三：每次作圖使用特定字體"
   ]
  },
  {
   "cell_type": "code",
   "execution_count": 6,
   "metadata": {},
   "outputs": [
    {
     "name": "stderr",
     "output_type": "stream",
     "text": [
      "findfont: Font family ['SetoFont'] not found. Falling back to DejaVu Sans.\n",
      "findfont: Font family ['SimHei'] not found. Falling back to DejaVu Sans.\n"
     ]
    },
    {
     "data": {
      "image/png": "[encoded data removed]",
      "text/plain": [
       "<Figure size 432x288 with 1 Axes>"
      ]
     },
     "metadata": {},
     "output_type": "display_data"
    }
   ],
   "source": [
    "font1 = {'fontname':'SetoFont'}\n",
    "font2 = {'fontname':'SimSun'}\n",
    "font3 = {'fontname':'SimHei'}\n",
    "\n",
    "plt.bar(x,y,align='center')\n",
    "plt.title('瀨戶字體標題',**font1, fontsize=18) #標題名稱\n",
    "plt.xlabel('新宋字體X軸',**font2, fontsize=18) #X軸名稱\n",
    "plt.ylabel('黑體Y軸',**font3, fontsize=18) #Y軸名稱\n",
    "plt.show()"
   ]
  },
  {
   "cell_type": "markdown",
   "metadata": {},
   "source": [
    "# 方法四、自訂字體型式\n",
    "### 下載`.ttf`字體檔，直接指定字體路徑"
   ]
  },
  {
   "cell_type": "code",
   "execution_count": 3,
   "metadata": {},
   "outputs": [
    {
     "data": {
      "image/png": "[encoded data removed]",
      "text/plain": [
       "<Figure size 432x288 with 1 Axes>"
      ]
     },
     "metadata": {
      "needs_background": "light"
     },
     "output_type": "display_data"
    }
   ],
   "source": [
    "from matplotlib.font_manager import FontProperties\n",
    "font = FontProperties(fname='data/微軟正黑體.ttf')\n",
    "\n",
    "plt.bar((1,2,3),(4,3,-1),align='center')\n",
    "plt.title('微軟正黑體標題',fontproperties=font, fontsize=18) #標題名稱\n",
    "plt.xlabel('微軟正黑體X軸',fontproperties=font, fontsize=18) #X軸名稱\n",
    "plt.ylabel('微軟正黑體Y軸',fontproperties=font, fontsize=18) #Y軸名稱\n",
    "plt.show()"
   ]
  },
  {
   "cell_type": "code",
   "execution_count": null,
   "metadata": {},
   "outputs": [],
   "source": []
  }
 ],
 "metadata": {
  "anaconda-cloud": {},
  "kernelspec": {
   "display_name": "Python 3",
   "language": "python",
   "name": "python3"
  },
  "language_info": {
   "codemirror_mode": {
    "name": "ipython",
    "version": 3
   },
   "file_extension": ".py",
   "mimetype": "text/x-python",
   "name": "python",
   "nbconvert_exporter": "python",
   "pygments_lexer": "ipython3",
   "version": "3.8.8"
  }
 },
 "nbformat": 4,
 "nbformat_minor": 1
}
