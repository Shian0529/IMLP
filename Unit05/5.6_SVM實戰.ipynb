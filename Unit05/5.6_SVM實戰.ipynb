{
 "cells": [
  {
   "cell_type": "markdown",
   "metadata": {},
   "source": [
    "# 乳癌資料庫預測SVM分類\n",
    ">使用scikit-learn 機器學習套件裡的SVR演算法\n",
    "\n",
    "* (一)引入函式庫及內建乳癌資料集<br>\n",
    "引入之函式庫如下<br>\n",
    "sklearn.datasets: 用來匯入內建之乳癌資料集`datasets.load_breast_cancer()`<br>\n",
    "sklearn.SVR: 支持向量機回歸分析之演算法<br>\n",
    "matplotlib.pyplot: 用來繪製影像"
   ]
  },
  {
   "cell_type": "code",
   "execution_count": 14,
   "metadata": {},
   "outputs": [],
   "source": [
    "import pandas as pd\n",
    "import numpy as np\n",
    "import matplotlib.pyplot as plt\n",
    "from sklearn import svm\n",
    "from sklearn import datasets\n",
    "from sklearn.model_selection import train_test_split\n",
    "from sklearn.metrics import accuracy_score"
   ]
  },
  {
   "cell_type": "markdown",
   "metadata": {},
   "source": [
    "## Step1. 下載資料"
   ]
  },
  {
   "cell_type": "code",
   "execution_count": 15,
   "metadata": {},
   "outputs": [],
   "source": [
    "breast_cancer=datasets.load_breast_cancer()\n",
    "X=breast_cancer.data\n",
    "y=breast_cancer.target"
   ]
  },
  {
   "cell_type": "markdown",
   "metadata": {},
   "source": [
    "## Step2. 區分訓練集與測試集"
   ]
  },
  {
   "cell_type": "code",
   "execution_count": 16,
   "metadata": {},
   "outputs": [],
   "source": [
    "X_train, X_test, y_train, y_test = train_test_split(X, y,test_size=0.3,random_state=0)"
   ]
  },
  {
   "cell_type": "markdown",
   "metadata": {},
   "source": [
    "## Step3. 建模"
   ]
  },
  {
   "cell_type": "code",
   "execution_count": 26,
   "metadata": {},
   "outputs": [
    {
     "name": "stdout",
     "output_type": "stream",
     "text": [
      "C=25,gamma=5e-06\n",
      "0.9597989949748744\n",
      "0.9532163742690059\n",
      "C=25,gamma=6e-06\n",
      "0.9623115577889447\n",
      "0.9532163742690059\n",
      "C=25,gamma=7e-06\n",
      "0.964824120603015\n",
      "0.9590643274853801\n",
      "C=25,gamma=8e-06\n",
      "0.964824120603015\n",
      "0.9590643274853801\n",
      "C=25,gamma=9e-06\n",
      "0.964824120603015\n",
      "0.9649122807017544\n",
      "C=25,gamma=1e-05\n",
      "0.9673366834170855\n",
      "0.9766081871345029\n",
      "C=25,gamma=2e-05\n",
      "0.9773869346733668\n",
      "0.9707602339181286\n",
      "C=25,gamma=3e-05\n",
      "0.9798994974874372\n",
      "0.9532163742690059\n",
      "C=25,gamma=4e-05\n",
      "0.9798994974874372\n",
      "0.9532163742690059\n",
      "C=25,gamma=5e-05\n",
      "0.9824120603015075\n",
      "0.9532163742690059\n"
     ]
    }
   ],
   "source": [
    "#調參：先調gamma，固定C=15\n",
    "C= [25]\n",
    "gamma = [0.000005,0.000006,0.000007,0.000008,0.000009,0.00001,0.00002,0.00003,0.00004,0.00005]\n",
    "for i in range(len(C)):\n",
    "    for j in range(len(gamma)):\n",
    "        print(f'C={C[i]},gamma={gamma[j]}')\n",
    "        clf=svm.SVC(kernel='poly',gamma=gamma[j],C=C[i])\n",
    "        clf.fit(X_train,y_train)\n",
    "        clf.predict(X_test)\n",
    "        print(clf.score(X_train,y_train))\n",
    "        print(clf.score(X_test, y_test))"
   ]
  },
  {
   "cell_type": "code",
   "execution_count": 27,
   "metadata": {},
   "outputs": [
    {
     "name": "stdout",
     "output_type": "stream",
     "text": [
      "C=20,gamma=2e-05\n",
      "0.9698492462311558\n",
      "0.9707602339181286\n",
      "C=21,gamma=2e-05\n",
      "0.9698492462311558\n",
      "0.9707602339181286\n",
      "C=22,gamma=2e-05\n",
      "0.9723618090452262\n",
      "0.9707602339181286\n",
      "C=23,gamma=2e-05\n",
      "0.9723618090452262\n",
      "0.9707602339181286\n",
      "C=24,gamma=2e-05\n",
      "0.9773869346733668\n",
      "0.9707602339181286\n",
      "C=25,gamma=2e-05\n",
      "0.9773869346733668\n",
      "0.9707602339181286\n",
      "C=26,gamma=2e-05\n",
      "0.9773869346733668\n",
      "0.9707602339181286\n",
      "C=27,gamma=2e-05\n",
      "0.9773869346733668\n",
      "0.9649122807017544\n",
      "C=28,gamma=2e-05\n",
      "0.9773869346733668\n",
      "0.9590643274853801\n",
      "C=29,gamma=2e-05\n",
      "0.9773869346733668\n",
      "0.9590643274853801\n",
      "C=30,gamma=2e-05\n",
      "0.9773869346733668\n",
      "0.9590643274853801\n"
     ]
    }
   ],
   "source": [
    "#上面結果為gamma=2e-05為最佳解\n",
    "#調參：調C，固定gamma=2e-05\n",
    "C= [20,21,22,23,24,25,26,27,28,29,30]\n",
    "gamma = [0.00002]\n",
    "for i in range(len(C)):\n",
    "    for j in range(len(gamma)):\n",
    "        print(f'C={C[i]},gamma={gamma[j]}')\n",
    "        clf=svm.SVC(kernel='poly',gamma=gamma[j],C=C[i])\n",
    "        clf.fit(X_train,y_train)\n",
    "        clf.predict(X_test)\n",
    "        print(clf.score(X_train,y_train))\n",
    "        print(clf.score(X_test, y_test))"
   ]
  },
  {
   "cell_type": "markdown",
   "metadata": {},
   "source": [
    "## Step4. 預測\n",
    "\n",
    "```\n",
    "上面結果為C=25，固定gamma=2e-05為最佳解\n",
    "```\n"
   ]
  },
  {
   "cell_type": "code",
   "execution_count": 28,
   "metadata": {},
   "outputs": [
    {
     "name": "stdout",
     "output_type": "stream",
     "text": [
      "C=25,gamma=2e-05\n",
      "0.9773869346733668\n",
      "0.9707602339181286\n"
     ]
    }
   ],
   "source": [
    "C= [25]\n",
    "gamma = [0.00002]\n",
    "for i in range(len(C)):\n",
    "    for j in range(len(gamma)):\n",
    "        print(f'C={C[i]},gamma={gamma[j]}')\n",
    "        clf=svm.SVC(kernel='poly',gamma=gamma[j],C=C[i])\n",
    "        clf.fit(X_train,y_train)\n",
    "        clf.predict(X_test)\n",
    "        "
   ]
  },
  {
   "cell_type": "markdown",
   "metadata": {},
   "source": [
    "## Step5. 準確度分析"
   ]
  },
  {
   "cell_type": "code",
   "execution_count": 30,
   "metadata": {},
   "outputs": [
    {
     "name": "stdout",
     "output_type": "stream",
     "text": [
      "training score: 0.9773869346733668\n",
      "testing score: 0.9707602339181286\n"
     ]
    }
   ],
   "source": [
    "print('training score:',clf.score(X_train,y_train))\n",
    "print('testing score:',clf.score(X_test, y_test))"
   ]
  },
  {
   "cell_type": "code",
   "execution_count": null,
   "metadata": {},
   "outputs": [],
   "source": []
  }
 ],
 "metadata": {
  "kernelspec": {
   "display_name": "Python 3",
   "language": "python",
   "name": "python3"
  },
  "language_info": {
   "codemirror_mode": {
    "name": "ipython",
    "version": 3
   },
   "file_extension": ".py",
   "mimetype": "text/x-python",
   "name": "python",
   "nbconvert_exporter": "python",
   "pygments_lexer": "ipython3",
   "version": "3.8.8"
  }
 },
 "nbformat": 4,
 "nbformat_minor": 2
}
